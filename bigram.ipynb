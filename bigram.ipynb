{
 "cells": [
  {
   "cell_type": "markdown",
   "id": "53398c90-44dc-4bb4-be46-05dc6c8d1519",
   "metadata": {},
   "source": [
    "#### What's bigram ?\n",
    "- Let's say in character level, A character bigram is a pair of consecutive characters in a string of text. For example, in the word \"hello\",  the bigrams are \"he\", \"el\", \"ll\" and \"lo\".\n",
    "\n",
    "#### What's bigram model ?\n",
    "- A bigram model predicts the next character in a sequence based on the current and previous character. "
   ]
  },
  {
   "cell_type": "code",
   "execution_count": 1,
   "id": "3c4eb721-b665-4fe8-ab56-aa7605741f8e",
   "metadata": {},
   "outputs": [
    {
     "name": "stdout",
     "output_type": "stream",
     "text": [
      "cuda\n"
     ]
    }
   ],
   "source": [
    "import torch\n",
    "import torch.nn as nn\n",
    "from torch.nn import functional as F\n",
    "device = 'cuda' if torch.cuda.is_available() else 'cpu'\n",
    "print(device)\n",
    "block_size = 8                                             # block size refers to the small snippets or chunks that we work on\n",
    "batch_size = 4                                             # batch size refers to the number of chunks that we process in one go\n",
    "max_iters = 1000\n",
    "#eval_interval = 2500\n",
    "learning_rate = 3e-4\n",
    "eval_iters = 250"
   ]
  },
  {
   "cell_type": "code",
   "execution_count": 2,
   "id": "07d40f2a-2ba0-4632-8eb3-612cb40dc007",
   "metadata": {},
   "outputs": [
    {
     "name": "stdout",
     "output_type": "stream",
     "text": [
      "['\\n', ' ', '!', '\"', '&', \"'\", '(', ')', '*', ',', '-', '.', '0', '1', '2', '3', '4', '5', '6', '7', '8', '9', ':', ';', '?', 'A', 'B', 'C', 'D', 'E', 'F', 'G', 'H', 'I', 'J', 'K', 'L', 'M', 'N', 'O', 'P', 'Q', 'R', 'S', 'T', 'U', 'V', 'W', 'X', 'Y', 'Z', '[', ']', '_', 'a', 'b', 'c', 'd', 'e', 'f', 'g', 'h', 'i', 'j', 'k', 'l', 'm', 'n', 'o', 'p', 'q', 'r', 's', 't', 'u', 'v', 'w', 'x', 'y', 'z', '\\ufeff']\n"
     ]
    }
   ],
   "source": [
    "with open('wizard_of_oz.txt','r',encoding='utf-8') as f:\n",
    "    text = f.read()\n",
    "chars = sorted(set(text))\n",
    "print(chars)\n",
    "vocab_size = len(chars)"
   ]
  },
  {
   "cell_type": "code",
   "execution_count": 3,
   "id": "2f3227ab-3538-4c0a-b90d-f5916f770f18",
   "metadata": {
    "scrolled": true
   },
   "outputs": [
    {
     "name": "stdout",
     "output_type": "stream",
     "text": [
      "tensor([80,  1,  1, 28, 39, 42, 39, 44, 32, 49,  1, 25, 38, 28,  1, 44, 32, 29,\n",
      "         1, 47, 33, 50, 25, 42, 28,  1, 33, 38,  1, 39, 50,  0,  0,  1,  1, 26,\n",
      "        49,  0,  0,  1,  1, 36, 11,  1, 30, 42, 25, 38, 35,  1, 26, 25, 45, 37,\n",
      "         0,  0,  1,  1, 25, 45, 44, 32, 39, 42,  1, 39, 30,  1, 44, 32, 29,  1,\n",
      "        47, 33, 50, 25, 42, 28,  1, 39, 30,  1, 39, 50,  9,  1, 44, 32, 29,  1,\n",
      "        36, 25, 38, 28,  1, 39, 30,  1, 39, 50])\n"
     ]
    }
   ],
   "source": [
    "'''\n",
    "encoding and decoding, Basically a tokenizer\n",
    "'''\n",
    "\n",
    "string_to_int = { ch : i for i,ch in enumerate(chars)}\n",
    "int_to_string = { i : ch for i,ch in enumerate(chars)}\n",
    "encode = lambda s: [string_to_int[c] for c in s]\n",
    "decode = lambda l: ''.join([int_to_string[i] for i in l])\n",
    "\n",
    "data =  torch.tensor(encode(text), dtype = torch.long)\n",
    "print(data[:100])"
   ]
  },
  {
   "cell_type": "code",
   "execution_count": 4,
   "id": "ffe348e2-7db8-4bc8-8855-dbed1ff5d01a",
   "metadata": {},
   "outputs": [
    {
     "name": "stdout",
     "output_type": "stream",
     "text": [
      "inputs:\n",
      "tensor([[67, 78, 76, 61, 58, 71, 58, 11],\n",
      "        [72, 68,  1, 54, 67, 60, 71, 78],\n",
      "        [57, 62, 67, 60,  1, 61, 62, 72],\n",
      "        [54, 67, 57,  1, 68, 59, 73, 58]], device='cuda:0')\n",
      "targets\n",
      "tensor([[78, 76, 61, 58, 71, 58, 11,  3],\n",
      "        [68,  1, 54, 67, 60, 71, 78,  1],\n",
      "        [62, 67, 60,  1, 61, 62, 72,  1],\n",
      "        [67, 57,  1, 68, 59, 73, 58, 67]], device='cuda:0')\n"
     ]
    }
   ],
   "source": [
    "n = int(0.8*len(data))\n",
    "train_data = data[:n]\n",
    "val_data = data[n:] \n",
    "\n",
    "def get_batch(split):\n",
    "    data = train_data if split == 'train' else val_data\n",
    "    ix = torch.randint(len(data) - block_size, (batch_size,))\n",
    "    #print(ix)\n",
    "    x = torch.stack([data[i:i+block_size] for i in ix])\n",
    "    y = torch.stack([data[i+1:i+block_size+1] for i in ix])\n",
    "    x,y = x.to(device), y.to(device)\n",
    "    return x,y\n",
    "\n",
    "x,y = get_batch('train')\n",
    "print('inputs:')\n",
    "# print(x.shape)\n",
    "print(x)\n",
    "print('targets')\n",
    "print(y)"
   ]
  },
  {
   "cell_type": "code",
   "execution_count": 5,
   "id": "e4c87836-6901-4994-aac7-bf23dde12ed1",
   "metadata": {
    "scrolled": true
   },
   "outputs": [
    {
     "name": "stdout",
     "output_type": "stream",
     "text": [
      "when input is tensor([80]) target is tensor(1)\n",
      "when input is tensor([80,  1]) target is tensor(1)\n",
      "when input is tensor([80,  1,  1]) target is tensor(28)\n",
      "when input is tensor([80,  1,  1, 28]) target is tensor(39)\n",
      "when input is tensor([80,  1,  1, 28, 39]) target is tensor(42)\n",
      "when input is tensor([80,  1,  1, 28, 39, 42]) target is tensor(39)\n",
      "when input is tensor([80,  1,  1, 28, 39, 42, 39]) target is tensor(44)\n",
      "when input is tensor([80,  1,  1, 28, 39, 42, 39, 44]) target is tensor(32)\n"
     ]
    }
   ],
   "source": [
    "x = train_data[:block_size]\n",
    "y = train_data[1:block_size+1]\n",
    "\n",
    "for t in range(block_size):\n",
    "    context = x[:t+1]\n",
    "    target = y[t]\n",
    "    print('when input is', context, 'target is', target)"
   ]
  },
  {
   "cell_type": "code",
   "execution_count": 6,
   "id": "d0ef188f-a961-4b7e-923b-8dc050730b97",
   "metadata": {},
   "outputs": [],
   "source": [
    "@torch.no_grad()                                     \n",
    "def estimate_loss():                                  \n",
    "    out = {}\n",
    "    model.eval()\n",
    "    for split in ['train', 'val']:\n",
    "        losses = torch.zeros(eval_iters)\n",
    "        for k in range(eval_iters):\n",
    "            X, Y = get_batch(split)\n",
    "            logits, loss = model(X, Y)                \n",
    "            losses[k] = loss.item()\n",
    "        out[split] = losses.mean()\n",
    "    model.train()\n",
    "    return out"
   ]
  },
  {
   "cell_type": "code",
   "execution_count": 7,
   "id": "ca8cf318-1d44-40ef-a075-f230c82bb0ad",
   "metadata": {},
   "outputs": [
    {
     "name": "stdout",
     "output_type": "stream",
     "text": [
      "\n",
      "AA&lECM?P:A()dfy1d\"0Qf4P,kb8BN:Y0H,(1CGphSM﻿GlL3]dV4\"Fj8T]G63DE_JwMNv5v5b *JkBg;9OZA&8T6 :p75H4Q(WGcg;SCk2﻿nJk3KTn94s,9Z9Oey)_u-3YDZX'l-lmCiFenRbC,J\"K4JOtsKSIPrcG0:3UIosPkhBkq8Fa_znntQn)3.AMcxfa_8Wf﻿Q!TJQB.d\"Qa&rQsbIkw4v!1F\"AM?voHOW;km**9rQ,\"5D:.n6fKGD!YjL\n",
      "6﻿80I,.9﻿iU﻿3-!4sv!WBh-T7:_?q8!h1-f8gT)YA'Fa)_Ni﻿4JvAMcGyl0RnvGBMwfX_tjOT).1NC(.s8b!ucN?_ R\n",
      "!W0 NisJ[:36&UISQflX__m.0q8J8,&yH?JwvADNtIax6d2pw7OwpZ&gm9B7g124U?OMY1S(M;RSMY'w[I\"5h(r;G9J8\n",
      "!_JvE N﻿3sbM&r3htH478z'Op0kw_﻿9K[hPaqOBV299﻿X8\n",
      "AAMDZ'(&uYN\n"
     ]
    }
   ],
   "source": [
    "class BigramLanguageModel(nn.Module):\n",
    "    def __init__(self, vocab_size):\n",
    "        super().__init__()\n",
    "        self.token_embedding_table = nn.Embedding(vocab_size, vocab_size)  \n",
    "\n",
    "    def forward(self, index, targets=None):\n",
    "        #converting into numbers from token_embedding_table\n",
    "        logits = self.token_embedding_table(index)\n",
    "\n",
    "        if targets is None:\n",
    "            loss = None\n",
    "        else:\n",
    "            # just keeping the output of shape in B, T, C\n",
    "            B, T, C = logits.shape                                          # B: batch, T: time, C: channel\n",
    "            # changing parameters by multiplying            \n",
    "            logits = logits.view(B*T, C)                                    \n",
    "            targets = targets.view(B*T)\n",
    "            loss = F.cross_entropy(logits, targets)\n",
    "            \n",
    "        return logits,loss\n",
    "\n",
    "    def generate(self, index, max_new_tokens):\n",
    "        # index is (B, T) array of indices in the current context\n",
    "        for _ in range(max_new_tokens):\n",
    "            # get the prediction\n",
    "            logits, loss = self.forward(index)\n",
    "            #focus only on the last line step\n",
    "            logits = logits[:, -1, :] # becomes (B, C)\n",
    "            # apply softmax to get probabilities\n",
    "            probs = F.softmax(logits, dim=-1) # (B, C)\n",
    "            # sample from the distribution\n",
    "            index_next = torch.multinomial(probs, num_samples=1) # (B, 1)\n",
    "            # append sampled index to the running sequence\n",
    "            index = torch.cat((index, index_next), dim=1) # (B, T+1)\n",
    "        return index\n",
    "\n",
    "model = BigramLanguageModel(vocab_size)\n",
    "m = model.to(device)\n",
    "\n",
    "context = torch.zeros((1,1), dtype=torch.long, device=device)\n",
    "generated_chars = decode(m.generate(context, max_new_tokens=500)[0].tolist())\n",
    "print(generated_chars)"
   ]
  },
  {
   "cell_type": "code",
   "execution_count": 9,
   "id": "94dcf371-7da8-4154-860e-1d185f5c8cd3",
   "metadata": {},
   "outputs": [
    {
     "name": "stdout",
     "output_type": "stream",
     "text": [
      "step: 0, train loss:  4.9286, val loss:  4.9189\n",
      "step: 250, train loss:  4.8833, val loss:  4.8706\n",
      "step: 500, train loss:  4.8054, val loss:  4.8080\n",
      "step: 750, train loss:  4.7343, val loss:  4.7629\n",
      "4.634559154510498\n"
     ]
    }
   ],
   "source": [
    "# create a PyTorch optimizer\n",
    "optimizer = torch.optim.AdamW(model.parameters(), lr=learning_rate)\n",
    "\n",
    "for iter in range(max_iters):\n",
    "    if iter % eval_iters == 0:\n",
    "        losses = estimate_loss()\n",
    "        print(f\"step: {iter}, train loss: {losses['train']: .4f}, val loss: {losses['val']: .4f}\")\n",
    "    # sample a batch of data\n",
    "    xb, yb = get_batch('train')\n",
    "\n",
    "    # evaluate the loss\n",
    "    logits, loss = model.forward(xb, yb)\n",
    "    optimizer.zero_grad(set_to_none=True)                       # To avoid previous gradient affect the current one\n",
    "    loss.backward()\n",
    "    optimizer.step()\n",
    "print(loss.item())"
   ]
  },
  {
   "cell_type": "code",
   "execution_count": null,
   "id": "a650ba4f-236c-48b8-a289-dd33d3137376",
   "metadata": {},
   "outputs": [],
   "source": [
    "context = torch.zeros((1,1), dtype=torch.long, device=device)\n",
    "generated_chars = decode(m.generate(context, max_new_tokens=500)[0].tolist())\n",
    "print(generated_chars)"
   ]
  },
  {
   "cell_type": "code",
   "execution_count": null,
   "id": "01890e6c-daf7-475c-9a87-3399140303e2",
   "metadata": {},
   "outputs": [],
   "source": []
  }
 ],
 "metadata": {
  "kernelspec": {
   "display_name": "cuda-gpt",
   "language": "python",
   "name": "cuda"
  },
  "language_info": {
   "codemirror_mode": {
    "name": "ipython",
    "version": 3
   },
   "file_extension": ".py",
   "mimetype": "text/x-python",
   "name": "python",
   "nbconvert_exporter": "python",
   "pygments_lexer": "ipython3",
   "version": "3.11.7"
  }
 },
 "nbformat": 4,
 "nbformat_minor": 5
}
